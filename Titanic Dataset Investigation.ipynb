{
 "cells": [
  {
   "cell_type": "markdown",
   "metadata": {},
   "source": [
    "# Titanic Dataset Investigation\n",
    "\n",
    "The sinking of the RMS Titanic is one of the most infamous shipwrecks in history.  On April 15, 1912, during her maiden voyage, the Titanic sank after colliding with an iceberg, killing 1502 out of 2224 passengers and crew.\n",
    "\n",
    "One of the reasons that the shipwreck led to such loss of life was that there were not enough lifeboats for the passengers and crew. Although there was some element of luck involved in surviving the sinking, some groups of people were more likely to survive than others, such as women, children, and the upper-class.\n",
    "\n",
    "This notebook describes my analysis of a dataset containing information from 891 of the 2224 passengers and crew on board of the Titanic as I attemp to answer what factors made people more likely to survive the tragedy.\n",
    "\n",
    "The Titanic dataset was provided by [Kaggle](https://www.kaggle.com)."
   ]
  },
  {
   "cell_type": "markdown",
   "metadata": {},
   "source": [
    "## Acquiring\n",
    "\n",
    "First, I need to import all the libraries and packages that are necessary for this notebook and create a pandas dataframe from the titanic-data.csv file."
   ]
  },
  {
   "cell_type": "code",
   "execution_count": 50,
   "metadata": {
    "collapsed": true
   },
   "outputs": [],
   "source": [
    "# import all necessary packages and functions.\n",
    "import csv\n",
    "import numpy as np\n",
    "import pandas as pd\n",
    "import matplotlib.pyplot as plt\n",
    "import seaborn as sns\n",
    "\n",
    "%matplotlib inline"
   ]
  },
  {
   "cell_type": "code",
   "execution_count": 51,
   "metadata": {
    "collapsed": true
   },
   "outputs": [],
   "source": [
    "# file location\n",
    "dataset = \"titanic-data.csv\"\n",
    "\n",
    "# creating a pandas dataframe\n",
    "titanic_data = pd.read_csv(dataset)"
   ]
  },
  {
   "cell_type": "markdown",
   "metadata": {},
   "source": [
    "## Cleaning\n",
    "\n",
    "Now, we have some data but after looking at some of the values carefully I noticed that some of them where missing. Moreover, not all this information is relevant for my analysis. For example, I don't really need the passenger's ID number or their ticket number.\n",
    "\n",
    "Some of the data is just not represented well. It's better to group age together in different ranges than to have individual ages for the passengers. Lastly, I'm not going to look at the sibling or parent relationship. Instead I'm only concerned whether they have a family member on board or not."
   ]
  },
  {
   "cell_type": "code",
   "execution_count": 52,
   "metadata": {
    "collapsed": true
   },
   "outputs": [],
   "source": [
    "# new column which represents the prescence of family aboard or not\n",
    "titanic_data['Family'] = (titanic_data['SibSp'] == 1) | (titanic_data['Parch'] == 1)\n",
    "\n",
    "age_labels = ['0-9', '10-19', '20-29', '30-39', '40-49', '50-59', '60-69', '70-79']\n",
    "\n",
    "# new column which makes age more easy to analyze by grouping it together\n",
    "titanic_data['Age_group'] = pd.cut(titanic_data.Age, range(0, 81, 10), right=False, labels=age_labels)\n",
    "\n",
    "# removing data that will not be used\n",
    "titanic_data.drop(['PassengerId', 'SibSp', 'Parch', 'Ticket', 'Cabin', 'Age'], axis=1, inplace=True)"
   ]
  },
  {
   "cell_type": "markdown",
   "metadata": {},
   "source": [
    "I'm still not satisfied by how my dataset looks. Some of the columns can have better descriptions and some of the values can be better represented using booleans."
   ]
  },
  {
   "cell_type": "code",
   "execution_count": 53,
   "metadata": {
    "scrolled": true
   },
   "outputs": [
    {
     "data": {
      "text/html": [
       "<div>\n",
       "<style>\n",
       "    .dataframe thead tr:only-child th {\n",
       "        text-align: right;\n",
       "    }\n",
       "\n",
       "    .dataframe thead th {\n",
       "        text-align: left;\n",
       "    }\n",
       "\n",
       "    .dataframe tbody tr th {\n",
       "        vertical-align: top;\n",
       "    }\n",
       "</style>\n",
       "<table border=\"1\" class=\"dataframe\">\n",
       "  <thead>\n",
       "    <tr style=\"text-align: right;\">\n",
       "      <th></th>\n",
       "      <th>Survived</th>\n",
       "      <th>Name</th>\n",
       "      <th>Sex</th>\n",
       "      <th>Fare</th>\n",
       "      <th>Family</th>\n",
       "      <th>Age_group</th>\n",
       "      <th>Class</th>\n",
       "      <th>Port</th>\n",
       "    </tr>\n",
       "  </thead>\n",
       "  <tbody>\n",
       "    <tr>\n",
       "      <th>0</th>\n",
       "      <td>False</td>\n",
       "      <td>Braund, Mr. Owen Harris</td>\n",
       "      <td>male</td>\n",
       "      <td>7.2500</td>\n",
       "      <td>True</td>\n",
       "      <td>20-29</td>\n",
       "      <td>Lower Class</td>\n",
       "      <td>Southampton</td>\n",
       "    </tr>\n",
       "    <tr>\n",
       "      <th>1</th>\n",
       "      <td>True</td>\n",
       "      <td>Cumings, Mrs. John Bradley (Florence Briggs Th...</td>\n",
       "      <td>female</td>\n",
       "      <td>71.2833</td>\n",
       "      <td>True</td>\n",
       "      <td>30-39</td>\n",
       "      <td>Upper Class</td>\n",
       "      <td>Cherbourg</td>\n",
       "    </tr>\n",
       "    <tr>\n",
       "      <th>2</th>\n",
       "      <td>True</td>\n",
       "      <td>Heikkinen, Miss. Laina</td>\n",
       "      <td>female</td>\n",
       "      <td>7.9250</td>\n",
       "      <td>False</td>\n",
       "      <td>20-29</td>\n",
       "      <td>Lower Class</td>\n",
       "      <td>Southampton</td>\n",
       "    </tr>\n",
       "    <tr>\n",
       "      <th>3</th>\n",
       "      <td>True</td>\n",
       "      <td>Futrelle, Mrs. Jacques Heath (Lily May Peel)</td>\n",
       "      <td>female</td>\n",
       "      <td>53.1000</td>\n",
       "      <td>True</td>\n",
       "      <td>30-39</td>\n",
       "      <td>Upper Class</td>\n",
       "      <td>Southampton</td>\n",
       "    </tr>\n",
       "    <tr>\n",
       "      <th>4</th>\n",
       "      <td>False</td>\n",
       "      <td>Allen, Mr. William Henry</td>\n",
       "      <td>male</td>\n",
       "      <td>8.0500</td>\n",
       "      <td>False</td>\n",
       "      <td>30-39</td>\n",
       "      <td>Lower Class</td>\n",
       "      <td>Southampton</td>\n",
       "    </tr>\n",
       "  </tbody>\n",
       "</table>\n",
       "</div>"
      ],
      "text/plain": [
       "   Survived                                               Name     Sex  \\\n",
       "0     False                            Braund, Mr. Owen Harris    male   \n",
       "1      True  Cumings, Mrs. John Bradley (Florence Briggs Th...  female   \n",
       "2      True                             Heikkinen, Miss. Laina  female   \n",
       "3      True       Futrelle, Mrs. Jacques Heath (Lily May Peel)  female   \n",
       "4     False                           Allen, Mr. William Henry    male   \n",
       "\n",
       "      Fare  Family Age_group        Class         Port  \n",
       "0   7.2500    True     20-29  Lower Class  Southampton  \n",
       "1  71.2833    True     30-39  Upper Class    Cherbourg  \n",
       "2   7.9250   False     20-29  Lower Class  Southampton  \n",
       "3  53.1000    True     30-39  Upper Class  Southampton  \n",
       "4   8.0500   False     30-39  Lower Class  Southampton  "
      ]
     },
     "execution_count": 53,
     "metadata": {},
     "output_type": "execute_result"
    }
   ],
   "source": [
    "# improving the value types in the 'survived' column\n",
    "survived_map = {0: False, 1: True}\n",
    "titanic_data['Survived'] = titanic_data['Survived'].map(survived_map)\n",
    "\n",
    "# improving the descriptions in the 'Class' column\n",
    "class_map = {1: 'Upper Class', 2: 'Middle Class', 3: 'Lower Class'}\n",
    "titanic_data['Class'] = titanic_data['Pclass'].map(class_map)\n",
    "\n",
    "# improving the descriptions in the 'Port' column\n",
    "port_map = {'S': 'Southampton', 'C': 'Cherbourg','Q':'Queenstown'}\n",
    "titanic_data['Port'] = titanic_data['Embarked'].map(port_map)\n",
    "\n",
    "# removing the Embarked column\n",
    "titanic_data.drop(['Embarked', 'Pclass'], axis=1, inplace=True)\n",
    "\n",
    "# Displaying the data\n",
    "titanic_data.head()"
   ]
  },
  {
   "cell_type": "markdown",
   "metadata": {},
   "source": [
    "## Exploring\n",
    "\n",
    "Now that the dataset is looking much better I can start exploring and learning from it. I'm looking at the factors made people more likely to survive the sinking of the Titanic. For now, let's just find the number of survivors from the 891 passengers and it's frequency."
   ]
  },
  {
   "cell_type": "code",
   "execution_count": 54,
   "metadata": {},
   "outputs": [
    {
     "name": "stdout",
     "output_type": "stream",
     "text": [
      "Total number of passengers: 891\n",
      "Total survivors: 342\n",
      "Survival ratio: 0.38\n"
     ]
    }
   ],
   "source": [
    "# number of passengers in the dataset\n",
    "number_of_passengers = len(titanic_data)\n",
    "\n",
    "# number_of_survivors\n",
    "number_of_survivors = (titanic_data['Survived']).sum()\n",
    "\n",
    "# survival ratio\n",
    "survival_ratio = number_of_survivors / number_of_passengers\n",
    "\n",
    "print(\"Total number of passengers: \" + str(number_of_passengers))\n",
    "print(\"Total survivors: \" + str(number_of_survivors))\n",
    "print(\"Survival ratio: \" + str(round(survival_ratio, 2)))"
   ]
  },
  {
   "cell_type": "code",
   "execution_count": 79,
   "metadata": {},
   "outputs": [
    {
     "data": {
      "image/png": "[encoded data removed]",
      "text/plain": [
       "<matplotlib.figure.Figure at 0x111aa0f28>"
      ]
     },
     "metadata": {},
     "output_type": "display_data"
    }
   ],
   "source": [
    "plot = sns.countplot(data=titanic_data, x=\"Survived\", palette=\"Blues_d\")\n",
    "plot.set_title(\"Non-survivors vs survivors\")\n",
    "sns.plt.show()"
   ]
  },
  {
   "cell_type": "markdown",
   "metadata": {},
   "source": [
    "### Gender\n",
    "\n",
    "When the Titanic sank, the safety of women and children came first. My guess is that their is a higher ratio of women how survived than men."
   ]
  },
  {
   "cell_type": "code",
   "execution_count": 83,
   "metadata": {},
   "outputs": [
    {
     "name": "stdout",
     "output_type": "stream",
     "text": [
      "Number of men: 577\n",
      "Number of women: 314\n"
     ]
    }
   ],
   "source": [
    "# number of men on board of the Titanic\n",
    "number_of_men = (titanic_data['Sex'] == 'male').sum()\n",
    "\n",
    "# number of women on board of the Titanic\n",
    "number_of_women = (titanic_data['Sex'] == 'female').sum()\n",
    "\n",
    "# ratio of men abort\n",
    "ratio_of_men = number_of_men / number_of_passengers\n",
    "\n",
    "# ratio of women abort\n",
    "ratio_of_women = number_of_women / number_of_passengers\n",
    "\n",
    "print(\"Number of men: \" + str(number_of_men))\n",
    "print(\"Number of women: \" + str(number_of_women))"
   ]
  },
  {
   "cell_type": "code",
   "execution_count": 82,
   "metadata": {},
   "outputs": [
    {
     "data": {
      "image/png": "[encoded data removed]",
      "text/plain": [
       "<matplotlib.figure.Figure at 0x10dc332b0>"
      ]
     },
     "metadata": {},
     "output_type": "display_data"
    }
   ],
   "source": [
    "plot = sns.countplot(data=titanic_data, x=\"Sex\", palette=\"Blues_d\")\n",
    "plot.set_title(\"Gender count\")\n",
    "sns.plt.show()"
   ]
  },
  {
   "cell_type": "code",
   "execution_count": 56,
   "metadata": {},
   "outputs": [
    {
     "name": "stdout",
     "output_type": "stream",
     "text": [
      "Number of men who survived: 109\n",
      "Number of women who survived: 233\n",
      "\n",
      "Percentage of men who survived: 18.9%\n",
      "Percentage of women who survived: 74.2%\n"
     ]
    }
   ],
   "source": [
    "# group the data by gender and outcome\n",
    "gender_vs_survival = titanic_data.groupby(['Survived', 'Sex']).size()\n",
    "\n",
    "# number of men who survived and did not survived\n",
    "men_survived = gender_vs_survival[True, 'male']\n",
    "men_not_survived = gender_vs_survival[False, 'male']\n",
    "\n",
    "# number of women who survived and did not survived\n",
    "women_survived = gender_vs_survival[True, 'female']\n",
    "women_not_survived = gender_vs_survival[False, 'female']\n",
    "\n",
    "# survival percentages\n",
    "survival_ratio_for_men = round(men_survived / number_of_men, 3) * 100\n",
    "survival_ratio_for_women = round(women_survived / number_of_women, 3) * 100\n",
    "\n",
    "print(\"Number of men who survived: \" + str(men_survived))\n",
    "print(\"Number of women who survived: \" + str(women_survived) + \"\\n\")\n",
    "print(\"Percentage of men who survived: \" + str(survival_ratio_for_men) + \"%\")\n",
    "print(\"Percentage of women who survived: \" + str(survival_ratio_for_women) + \"%\")"
   ]
  },
  {
   "cell_type": "markdown",
   "metadata": {},
   "source": [
    "As we can see, women were much more likely to survive the tragedy than men. In fact 74% of the woman abort survived while only a mere 19% of the man did."
   ]
  },
  {
   "cell_type": "code",
   "execution_count": 85,
   "metadata": {
    "scrolled": true
   },
   "outputs": [
    {
     "data": {
      "image/png": "[encoded data removed]",
      "text/plain": [
       "<matplotlib.figure.Figure at 0x10d899fd0>"
      ]
     },
     "metadata": {},
     "output_type": "display_data"
    }
   ],
   "source": [
    "plot = sns.barplot(data=titanic_data, x=\"Sex\", y=\"Survived\", palette=\"Blues_d\", estimator=sum)\n",
    "plot.set_title(\"Survival by gender\")\n",
    "plot.set(ylabel=\"Survived\")\n",
    "sns.plt.show()"
   ]
  },
  {
   "cell_type": "markdown",
   "metadata": {},
   "source": [
    "### Age group"
   ]
  },
  {
   "cell_type": "code",
   "execution_count": null,
   "metadata": {
    "collapsed": true
   },
   "outputs": [],
   "source": []
  }
 ],
 "metadata": {
  "kernelspec": {
   "display_name": "Python 3",
   "language": "python",
   "name": "python3"
  },
  "language_info": {
   "codemirror_mode": {
    "name": "ipython",
    "version": 3
   },
   "file_extension": ".py",
   "mimetype": "text/x-python",
   "name": "python",
   "nbconvert_exporter": "python",
   "pygments_lexer": "ipython3",
   "version": "3.6.1"
  }
 },
 "nbformat": 4,
 "nbformat_minor": 2
}
