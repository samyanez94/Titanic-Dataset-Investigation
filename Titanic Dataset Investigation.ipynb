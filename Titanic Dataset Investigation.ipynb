{
 "cells": [
  {
   "cell_type": "markdown",
   "metadata": {},
   "source": [
    "# Titanic Dataset Investigation\n",
    "\n",
    "The sinking of the RMS Titanic is one of the most infamous shipwrecks in history.  On April 15, 1912, during her maiden voyage, the Titanic sank after colliding with an iceberg, killing 1502 out of 2224 passengers and crew.\n",
    "\n",
    "One of the reasons that the shipwreck led to such loss of life was that there were not enough lifeboats for the passengers and crew. Although there was some element of luck involved in surviving the sinking, some groups of people were more likely to survive than others, such as women, children, and the upper-class.\n",
    "\n",
    "This notebook describes the data analysis process that I took as I analyzed data from 891 of the 2224 passengers and crew on board of the Titanic and looked at what factors made people more likely to survive the tragedy.\n",
    "\n",
    "The dataset used was provided by [Kaggle](https://www.kaggle.com)."
   ]
  },
  {
   "cell_type": "markdown",
   "metadata": {},
   "source": [
    "## Acquiring\n",
    "\n",
    "First, I need to import all the libraries and packages that are necessary for this notebook and create a pandas dataframe from the titanic-data.csv file."
   ]
  },
  {
   "cell_type": "code",
   "execution_count": 1,
   "metadata": {
    "collapsed": true
   },
   "outputs": [],
   "source": [
    "# import all necessary packages and functions\n",
    "import csv\n",
    "import numpy as np\n",
    "import pandas as pd\n",
    "import matplotlib.pyplot as plt\n",
    "import seaborn as sns\n",
    "\n",
    "%matplotlib inline"
   ]
  },
  {
   "cell_type": "code",
   "execution_count": 2,
   "metadata": {
    "collapsed": true
   },
   "outputs": [],
   "source": [
    "# file location\n",
    "dataset = \"titanic-data.csv\"\n",
    "\n",
    "# creating a pandas dataframe\n",
    "titanic_data = pd.read_csv(dataset)"
   ]
  },
  {
   "cell_type": "markdown",
   "metadata": {},
   "source": [
    "## Cleaning\n",
    "\n",
    "Now, we have some data but after looking at some of the values carefully I noticed that some of them were missing. Moreover, not all this information is relevant for my analysis. For example, I don't really need the passenger's ID number or their ticket number.\n",
    "\n",
    "On the other side, a part of the data is not represented well. It's better to group age together by ranges than to have individual values for each passenger. Also, I'm only concerned with whether a passenger has a family member aboard or not. It's not important for my analysis if this family member is a sibling or a parent."
   ]
  },
  {
   "cell_type": "code",
   "execution_count": 3,
   "metadata": {
    "collapsed": true
   },
   "outputs": [],
   "source": [
    "# new column which represents the prescence of family aboard or not\n",
    "titanic_data['Family'] = (titanic_data['SibSp'] == 1) | (titanic_data['Parch'] == 1)\n",
    "\n",
    "age_labels = ['0-9', '10-19', '20-29', '30-39', '40-49', '50-59', '60-69', '70-79']\n",
    "\n",
    "# new column which makes age more easy to analyze by grouping it together in ranges\n",
    "titanic_data['Age_group'] = pd.cut(titanic_data.Age, range(0, 81, 10), right=False, labels=age_labels)\n",
    "\n",
    "# removing data that will not be used\n",
    "titanic_data.drop(['PassengerId', 'SibSp', 'Parch', 'Ticket', 'Cabin', 'Age'], axis=1, inplace=True)"
   ]
  },
  {
   "cell_type": "markdown",
   "metadata": {},
   "source": [
    "Still, I'm not satisfied by how the dataset looks. Some of the columns can have better descriptions and some of the values can be better represented using booleans."
   ]
  },
  {
   "cell_type": "code",
   "execution_count": 4,
   "metadata": {
    "scrolled": true
   },
   "outputs": [
    {
     "data": {
      "text/html": [
       "<div>\n",
       "<style>\n",
       "    .dataframe thead tr:only-child th {\n",
       "        text-align: right;\n",
       "    }\n",
       "\n",
       "    .dataframe thead th {\n",
       "        text-align: left;\n",
       "    }\n",
       "\n",
       "    .dataframe tbody tr th {\n",
       "        vertical-align: top;\n",
       "    }\n",
       "</style>\n",
       "<table border=\"1\" class=\"dataframe\">\n",
       "  <thead>\n",
       "    <tr style=\"text-align: right;\">\n",
       "      <th></th>\n",
       "      <th>Survived</th>\n",
       "      <th>Name</th>\n",
       "      <th>Sex</th>\n",
       "      <th>Fare</th>\n",
       "      <th>Family</th>\n",
       "      <th>Age_group</th>\n",
       "      <th>Class</th>\n",
       "      <th>Port</th>\n",
       "    </tr>\n",
       "  </thead>\n",
       "  <tbody>\n",
       "    <tr>\n",
       "      <th>0</th>\n",
       "      <td>False</td>\n",
       "      <td>Braund, Mr. Owen Harris</td>\n",
       "      <td>male</td>\n",
       "      <td>7.2500</td>\n",
       "      <td>True</td>\n",
       "      <td>20-29</td>\n",
       "      <td>Lower Class</td>\n",
       "      <td>Southampton</td>\n",
       "    </tr>\n",
       "    <tr>\n",
       "      <th>1</th>\n",
       "      <td>True</td>\n",
       "      <td>Cumings, Mrs. John Bradley (Florence Briggs Th...</td>\n",
       "      <td>female</td>\n",
       "      <td>71.2833</td>\n",
       "      <td>True</td>\n",
       "      <td>30-39</td>\n",
       "      <td>Upper Class</td>\n",
       "      <td>Cherbourg</td>\n",
       "    </tr>\n",
       "    <tr>\n",
       "      <th>2</th>\n",
       "      <td>True</td>\n",
       "      <td>Heikkinen, Miss. Laina</td>\n",
       "      <td>female</td>\n",
       "      <td>7.9250</td>\n",
       "      <td>False</td>\n",
       "      <td>20-29</td>\n",
       "      <td>Lower Class</td>\n",
       "      <td>Southampton</td>\n",
       "    </tr>\n",
       "    <tr>\n",
       "      <th>3</th>\n",
       "      <td>True</td>\n",
       "      <td>Futrelle, Mrs. Jacques Heath (Lily May Peel)</td>\n",
       "      <td>female</td>\n",
       "      <td>53.1000</td>\n",
       "      <td>True</td>\n",
       "      <td>30-39</td>\n",
       "      <td>Upper Class</td>\n",
       "      <td>Southampton</td>\n",
       "    </tr>\n",
       "    <tr>\n",
       "      <th>4</th>\n",
       "      <td>False</td>\n",
       "      <td>Allen, Mr. William Henry</td>\n",
       "      <td>male</td>\n",
       "      <td>8.0500</td>\n",
       "      <td>False</td>\n",
       "      <td>30-39</td>\n",
       "      <td>Lower Class</td>\n",
       "      <td>Southampton</td>\n",
       "    </tr>\n",
       "  </tbody>\n",
       "</table>\n",
       "</div>"
      ],
      "text/plain": [
       "   Survived                                               Name     Sex  \\\n",
       "0     False                            Braund, Mr. Owen Harris    male   \n",
       "1      True  Cumings, Mrs. John Bradley (Florence Briggs Th...  female   \n",
       "2      True                             Heikkinen, Miss. Laina  female   \n",
       "3      True       Futrelle, Mrs. Jacques Heath (Lily May Peel)  female   \n",
       "4     False                           Allen, Mr. William Henry    male   \n",
       "\n",
       "      Fare  Family Age_group        Class         Port  \n",
       "0   7.2500    True     20-29  Lower Class  Southampton  \n",
       "1  71.2833    True     30-39  Upper Class    Cherbourg  \n",
       "2   7.9250   False     20-29  Lower Class  Southampton  \n",
       "3  53.1000    True     30-39  Upper Class  Southampton  \n",
       "4   8.0500   False     30-39  Lower Class  Southampton  "
      ]
     },
     "execution_count": 4,
     "metadata": {},
     "output_type": "execute_result"
    }
   ],
   "source": [
    "# improving the value types in the 'survived' column\n",
    "survived_map = {0: False, 1: True}\n",
    "titanic_data['Survived'] = titanic_data['Survived'].map(survived_map)\n",
    "\n",
    "# improving the descriptions in the 'Class' column\n",
    "class_map = {1: 'Upper Class', 2: 'Middle Class', 3: 'Lower Class'}\n",
    "titanic_data['Class'] = titanic_data['Pclass'].map(class_map)\n",
    "\n",
    "# improving the descriptions in the 'Port' column\n",
    "port_map = {'S': 'Southampton', 'C': 'Cherbourg','Q':'Queenstown'}\n",
    "titanic_data['Port'] = titanic_data['Embarked'].map(port_map)\n",
    "\n",
    "# removing the Embarked column\n",
    "titanic_data.drop(['Embarked', 'Pclass'], axis=1, inplace=True)\n",
    "\n",
    "# displaying the data\n",
    "titanic_data.head()"
   ]
  },
  {
   "cell_type": "code",
   "execution_count": 5,
   "metadata": {},
   "outputs": [
    {
     "data": {
      "text/plain": [
       "Survived       0\n",
       "Name           0\n",
       "Sex            0\n",
       "Fare           0\n",
       "Family         0\n",
       "Age_group    178\n",
       "Class          0\n",
       "Port           2\n",
       "dtype: int64"
      ]
     },
     "execution_count": 5,
     "metadata": {},
     "output_type": "execute_result"
    }
   ],
   "source": [
    "titanic_data.isnull().sum() "
   ]
  },
  {
   "cell_type": "markdown",
   "metadata": {},
   "source": [
    "The dataset is not complete though. Some rows have missing information from the age group and port columns. To handle this, I will create a new dataframe that excludes those entries. I won't use this new dataframe when the age group or port columns are not relevant since I don't want to reduce my sample size when data from name, sex, fare, family, or class is still present."
   ]
  },
  {
   "cell_type": "code",
   "execution_count": 6,
   "metadata": {
    "collapsed": true
   },
   "outputs": [],
   "source": [
    "# creates a new dataframe with no missing values\n",
    "titanic_data_full = titanic_data.dropna(axis=0)"
   ]
  },
  {
   "cell_type": "markdown",
   "metadata": {},
   "source": [
    "## Exploring\n",
    "\n",
    "Now that the dataset looks much better I can start exploring and learning from it. I'm concerned with the factors that made people more likely to survive the sinking of the Titanic. For now, I'll find the number of survivors from the 891 passengers and the general probability of surviving."
   ]
  },
  {
   "cell_type": "code",
   "execution_count": 34,
   "metadata": {},
   "outputs": [
    {
     "name": "stdout",
     "output_type": "stream",
     "text": [
      "Total number of passengers: 891\n",
      "Total survivors: 342\n",
      "Probability of survival: 0.38\n"
     ]
    }
   ],
   "source": [
    "# number of passengers in the dataset\n",
    "number_of_passengers = len(titanic_data)\n",
    "\n",
    "# number_of_survivors\n",
    "number_of_survivors = (titanic_data['Survived']).sum()\n",
    "\n",
    "# survival probability\n",
    "survival_probability = number_of_survivors / number_of_passengers\n",
    "\n",
    "print(\"Total number of passengers: \" + str(number_of_passengers))\n",
    "print(\"Total survivors: \" + str(number_of_survivors))\n",
    "print(\"Probability of survival: \" + str(round(survival_probability, 2)))"
   ]
  },
  {
   "cell_type": "code",
   "execution_count": 35,
   "metadata": {},
   "outputs": [
    {
     "data": {
      "image/png": "[encoded data removed]",
      "text/plain": [
       "<matplotlib.figure.Figure at 0x12034dfd0>"
      ]
     },
     "metadata": {},
     "output_type": "display_data"
    }
   ],
   "source": [
    "plot = sns.countplot(data=titanic_data, x=\"Survived\", palette=\"Blues_d\")\n",
    "plot.set_title(\"Non-survivors vs survivors\")\n",
    "plt.show()"
   ]
  },
  {
   "cell_type": "markdown",
   "metadata": {},
   "source": [
    "### Survival and gender\n",
    "\n",
    "When the Titanic sank, the safety of women and children came first. My first guess is that their is a higher ratio of women how survived than men."
   ]
  },
  {
   "cell_type": "code",
   "execution_count": 36,
   "metadata": {},
   "outputs": [
    {
     "name": "stdout",
     "output_type": "stream",
     "text": [
      "Number of men: 577\n",
      "Number of women: 314\n"
     ]
    }
   ],
   "source": [
    "# number of men on board of the Titanic\n",
    "number_of_men = (titanic_data['Sex'] == 'male').sum()\n",
    "\n",
    "# number of women on board of the Titanic\n",
    "number_of_women = (titanic_data['Sex'] == 'female').sum()\n",
    "\n",
    "print(\"Number of men: \" + str(number_of_men))\n",
    "print(\"Number of women: \" + str(number_of_women))"
   ]
  },
  {
   "cell_type": "code",
   "execution_count": 37,
   "metadata": {},
   "outputs": [
    {
     "data": {
      "image/png": "[encoded data removed]",
      "text/plain": [
       "<matplotlib.figure.Figure at 0x120347dd8>"
      ]
     },
     "metadata": {},
     "output_type": "display_data"
    }
   ],
   "source": [
    "plot = sns.countplot(data=titanic_data, x=\"Sex\", palette=\"Blues_d\")\n",
    "plot.set_title(\"Gender count\")\n",
    "plt.show()"
   ]
  },
  {
   "cell_type": "code",
   "execution_count": 38,
   "metadata": {},
   "outputs": [
    {
     "name": "stdout",
     "output_type": "stream",
     "text": [
      "Number of men who survived: 109\n",
      "Number of women who survived: 233\n",
      "\n",
      "Probability of surviving as a men: 0.189\n",
      "Probability of surviving as a woman: 0.742\n"
     ]
    }
   ],
   "source": [
    "# group the data by gender\n",
    "gender_vs_survival = titanic_data.groupby(['Survived', 'Sex']).size()\n",
    "\n",
    "# number of men who survived and did not survived\n",
    "men_survived = gender_vs_survival[True, 'male']\n",
    "men_not_survived = gender_vs_survival[False, 'male']\n",
    "\n",
    "# number of women who survived and did not survived\n",
    "women_survived = gender_vs_survival[True, 'female']\n",
    "women_not_survived = gender_vs_survival[False, 'female']\n",
    "\n",
    "# survival percentages\n",
    "survival_probability_for_men = round(men_survived / number_of_men, 3)\n",
    "survival_probability_for_women = round(women_survived / number_of_women, 3)\n",
    "\n",
    "print(\"Number of men who survived: \" + str(men_survived))\n",
    "print(\"Number of women who survived: \" + str(women_survived) + \"\\n\")\n",
    "print(\"Probability of surviving as a men: \" + str(survival_probability_for_men))\n",
    "print(\"Probability of surviving as a woman: \" + str(survival_probability_for_women))"
   ]
  },
  {
   "cell_type": "code",
   "execution_count": 39,
   "metadata": {
    "scrolled": true
   },
   "outputs": [
    {
     "data": {
      "image/png": "[encoded data removed]",
      "text/plain": [
       "<matplotlib.figure.Figure at 0x11fb78d68>"
      ]
     },
     "metadata": {},
     "output_type": "display_data"
    }
   ],
   "source": [
    "plot = sns.barplot(data=titanic_data, x=\"Sex\", y=\"Survived\", palette=\"Blues_d\", estimator= lambda x: sum(x) / len(x))\n",
    "plot.set_title(\"Probrability of survival by gender\")\n",
    "plot.set(ylabel=\"Probability\")\n",
    "plt.show()"
   ]
  },
  {
   "cell_type": "markdown",
   "metadata": {},
   "source": [
    "Women were much more likely to survive the tragedy than men as 74% of the woman abort survived while only a mere 19% of the men did."
   ]
  },
  {
   "cell_type": "markdown",
   "metadata": {},
   "source": [
    "### Survival and age\n",
    "\n",
    "Based on my previous guess, I also expect to see I higher rate of children who survived. Keep in mind that since the dataset has missing entries for the age column, I will be using the `titanic_data_full dataframe` for this part. This dataframe contains only those rows where the age and port values are present."
   ]
  },
  {
   "cell_type": "code",
   "execution_count": 7,
   "metadata": {},
   "outputs": [
    {
     "data": {
      "image/png": "[encoded data removed]",
      "text/plain": [
       "<matplotlib.figure.Figure at 0x1079ab898>"
      ]
     },
     "metadata": {},
     "output_type": "display_data"
    }
   ],
   "source": [
    "# Distribution of age by groups\n",
    "distribution_of_ages = sns.countplot(x=\"Age_group\", data=titanic_data_full, palette=\"Blues_d\")\n",
    "distribution_of_ages.set_title(\"Distribution of ages\")\n",
    "distribution_of_ages.set(xlabel=\"Age group\")\n",
    "plt.show(distribution_of_ages)"
   ]
  },
  {
   "cell_type": "markdown",
   "metadata": {},
   "source": [
    "As we can see from the bar plot, the shape of the age distribution is normal and most of the passengers were between 10 and 49 years old. I'm going to count as a children anyone younger than 9 years old."
   ]
  },
  {
   "cell_type": "code",
   "execution_count": 8,
   "metadata": {},
   "outputs": [
    {
     "data": {
      "image/png": "[encoded data removed]",
      "text/plain": [
       "<matplotlib.figure.Figure at 0x112665080>"
      ]
     },
     "metadata": {},
     "output_type": "display_data"
    }
   ],
   "source": [
    "age_vs_survival = titanic_data_full.groupby(['Survived', 'Age_group']).size()\n",
    "\n",
    "# probability_of_survival_by_age\n",
    "probability_of_survival_by_age = sns.barplot(x=\"Age_group\", y=\"Survived\", data=titanic_data_full, palette=\"Blues_d\", estimator=lambda x: sum(x) / len(x))\n",
    "probability_of_survival_by_age.set_title(\"Probability of survival by age\")\n",
    "probability_of_survival_by_age.set(xlabel=\"Age group\")\n",
    "probability_of_survival_by_age.set(ylabel=\"Probability\")\n",
    "plt.show(probability_of_survival_by_age)"
   ]
  },
  {
   "cell_type": "markdown",
   "metadata": {
    "collapsed": true
   },
   "source": [
    "The probability plot above reveals that children of ages 0-9 were the most likely to survive the tragedy. A saddening insight also reveals that none of the 6 passengers of ages 70-79 survived. Apart from the edge cases of being a child or an older passenger, the probability of survival doesn't seem to change much. It's almost as likely for someone of age 10-19 to survive as it is for someone of age 50-59."
   ]
  },
  {
   "cell_type": "markdown",
   "metadata": {},
   "source": [
    "### Survival and social class\n",
    "\n",
    "In the 1997 movie by James Cameron, we meet the fictional character Caledon Hockley who is played by Billy Zane. Hockley is the son of a successful steel tycoon and is able to pay for the whole trip as first class passengers due to his high wealth and social position. When the Titanic is sinking, he tries to pay his way into a lifeboat but the emergency personnel stops him and tells him that his money can't save him more that it could save the others aboard.\n",
    "\n",
    "I find this an interesting example since it means that the crew was following the \"women and children only\" rule and that no matter your wealth or social status you had the same chance of survival as anyone else. At least this was the case in the movie. Let's find out if it holds using real data."
   ]
  },
  {
   "cell_type": "code",
   "execution_count": 9,
   "metadata": {},
   "outputs": [
    {
     "data": {
      "image/png": "[encoded data removed]",
      "text/plain": [
       "<matplotlib.figure.Figure at 0x11265d2b0>"
      ]
     },
     "metadata": {},
     "output_type": "display_data"
    }
   ],
   "source": [
    "# Distribution of social classes\n",
    "distribution_of_class = sns.countplot(x=\"Class\", data=titanic_data, palette=\"Blues_d\")\n",
    "distribution_of_class.set_title(\"Distribution of social classes\")\n",
    "plt.show(distribution_of_class)"
   ]
  },
  {
   "cell_type": "code",
   "execution_count": 10,
   "metadata": {},
   "outputs": [
    {
     "data": {
      "image/png": "[encoded data removed]",
      "text/plain": [
       "<matplotlib.figure.Figure at 0x115b93e10>"
      ]
     },
     "metadata": {},
     "output_type": "display_data"
    }
   ],
   "source": [
    "class_vs_survival = titanic_data.groupby(['Survived', 'Class']).size()\n",
    "\n",
    "# probability of survival by class\n",
    "probability_of_survival_by_class = sns.barplot(x=\"Class\", y=\"Survived\", data=titanic_data, palette=\"Blues_d\", estimator=lambda x: sum(x) / len(x))\n",
    "probability_of_survival_by_class.set_title(\"Probability of survival by class\")\n",
    "probability_of_survival_by_class.set(xlabel=\"Class\")\n",
    "probability_of_survival_by_class.set(ylabel=\"Probability\")\n",
    "plt.show(probability_of_survival_by_class)"
   ]
  },
  {
   "cell_type": "markdown",
   "metadata": {},
   "source": [
    "Even though Hockley wasn't able to pay his way into the lifeboat (although he got in the boat later anyways), it appears that social class was a big factor affecting the likehood of survival. Uperclass passengers had a survival chance of 63% while lower class passenger only had a chance of 24%."
   ]
  },
  {
   "cell_type": "markdown",
   "metadata": {},
   "source": [
    "### Survival and family presence\n",
    "\n",
    "A final factor to consider is the presence of family member aboard or not. This can affect the chances of survival in many ways. It could be that a person doesn't wish to leave a loved one that can't make it out themself or family members helping each others as a group and overcoming obstacles that couldn't be done alone."
   ]
  },
  {
   "cell_type": "code",
   "execution_count": 11,
   "metadata": {},
   "outputs": [
    {
     "data": {
      "image/png": "[encoded data removed]",
      "text/plain": [
       "<matplotlib.figure.Figure at 0x115aeca90>"
      ]
     },
     "metadata": {},
     "output_type": "display_data"
    }
   ],
   "source": [
    "plot = sns.barplot(data=titanic_data, x=\"Family\", y=\"Survived\", palette=\"Blues_d\", estimator= lambda x: sum(x) / len(x))\n",
    "plot.set_title(\"Probrability of survival by family presence\")\n",
    "plot.set(ylabel=\"Probability\")\n",
    "plt.show()"
   ]
  },
  {
   "cell_type": "markdown",
   "metadata": {},
   "source": [
    "As we can see, passengers with family members aboard had a 52% chance of survival compared to passengers that traveled alone which only have a 32% survival rate."
   ]
  },
  {
   "cell_type": "markdown",
   "metadata": {},
   "source": [
    "## Concluding\n",
    "\n",
    "When looking at the passengers' data, we observe that we can split it into specific groups based on age, gender, and social classes. When separating the passengers into these groups it allows us to investigate survival statistics for each of the groups. However, it's important to note that I only looked at the correlations in the data. As we know, correlation does not imply causation.\n",
    "\n",
    "So what factor made passengers more likely to survive? Age, gender, social class, and the presence of family aboard affected the outcome of the passengers. I believe it thanks to the \"Women and children only\" rule that's applied to maritime emergencies, women and their children had a higher chance of survival than men and older individuals. This can be observed in the plots from the previous section as 74% of the women were able to survive while only a mere 19% of the men did and 61% of the children of ages 0-9 survived while the average probability of survival was 0.38.\n",
    "\n",
    "It's interesting to note that the rule did not apply to all classes equally. Upper class passengers had a greater chance to survive than Middle or Lower class passengers. In fact, the chances of survival from an Upper class passenger were 2.5 times greater than the chance of a Lower class passenger.\n",
    "\n",
    "Lastly, traveling with family had a signigicant outcome as well. As stated before, passengers with family members aboard had a 52% chance of survival compared to passengers that traveled alone which only have a 32% survival rate. This could be due to many reasons but I like to believe it was due to family members helping each others.\n",
    "\n",
    "### Limitations of the dataset\n",
    "\n",
    "The dataset was just a small sample of the entire population that was on board of the Titanic. It only contained information from 891 of the 2224 passengers. Even more, the dataset contained missed values from the age and port columns which affected the analysis. There was also no mention of the crew members in the dataset. Either they were hidden in the data or they were not included.\n",
    "\n",
    "### References\n",
    "\n",
    "* Wikipedia contributors. \"RMS Titanic.\" Wikipedia, The Free Encyclopedia. Wikipedia, The Free Encyclopedia, 27 Aug. 2017. Web. 27 Aug. 2017\n",
    "\n",
    "* Kaggle Inc. \"Titanic: Machine Learning from Disaster.\" 27 Aug. 2017. Web. 27 Aug. 2017"
   ]
  }
 ],
 "metadata": {
  "kernelspec": {
   "display_name": "Python 3",
   "language": "python",
   "name": "python3"
  },
  "language_info": {
   "codemirror_mode": {
    "name": "ipython",
    "version": 3
   },
   "file_extension": ".py",
   "mimetype": "text/x-python",
   "name": "python",
   "nbconvert_exporter": "python",
   "pygments_lexer": "ipython3",
   "version": "3.6.1"
  }
 },
 "nbformat": 4,
 "nbformat_minor": 2
}
